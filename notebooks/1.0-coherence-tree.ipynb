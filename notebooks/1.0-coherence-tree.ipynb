{
 "cells": [
  {
   "cell_type": "code",
   "execution_count": 1,
   "id": "9565591d-177a-45b9-a92e-3eb0dd28b22a",
   "metadata": {},
   "outputs": [
    {
     "name": "stdout",
     "output_type": "stream",
     "text": [
      "Collecting treelib\n",
      "  Downloading treelib-1.7.0-py3-none-any.whl.metadata (1.3 kB)\n",
      "Requirement already satisfied: six in /Users/mac/miniforge3/envs/phd/lib/python3.8/site-packages (from treelib) (1.16.0)\n",
      "Downloading treelib-1.7.0-py3-none-any.whl (18 kB)\n",
      "Installing collected packages: treelib\n",
      "Successfully installed treelib-1.7.0\n"
     ]
    }
   ],
   "source": [
    "!pip install treelib"
   ]
  },
  {
   "cell_type": "code",
   "execution_count": 2,
   "id": "c6732782-a251-4a52-a32f-06820c088081",
   "metadata": {},
   "outputs": [],
   "source": [
    "# Run if working locally\n",
    "%load_ext autoreload\n",
    "%autoreload 2"
   ]
  },
  {
   "cell_type": "code",
   "execution_count": 3,
   "id": "874b7d92-1795-4d02-9383-2cf40a11928d",
   "metadata": {},
   "outputs": [],
   "source": [
    "import sqlite3\n",
    "from sqlite3 import Error\n",
    "import pickle\n",
    "import os, sys\n",
    "import config\n",
    "\n",
    "config.root_path = os.path.abspath(os.path.join(os.getcwd(), \"..\"))\n",
    "sys.path.insert(0, config.root_path)\n",
    "\n",
    "from src.dataset.dataset import RawData\n",
    "from src.dataset.wikisection_preprocessing import (\n",
    "    tokenize,\n",
    "    clean_sentence,\n",
    "    preprocess_text_segmentation,\n",
    "    format_data_for_db_insertion,\n",
    ")\n",
    "from src.dataset.utils import truncate_by_token\n",
    "from db.dbv2 import Table, AugmentedTable, TrainTestTable\n",
    "import pprint\n",
    "\n",
    "\n",
    "from utils.metrics import windowdiff, pk\n",
    "from treelib import Node, Tree"
   ]
  },
  {
   "cell_type": "code",
   "execution_count": null,
   "id": "fa6844f6-3b65-4e3e-a59f-55b62fbd8beb",
   "metadata": {},
   "outputs": [],
   "source": []
  },
  {
   "cell_type": "code",
   "execution_count": 4,
   "id": "2ab98028-3fca-4ef0-9b12-6e82335a882d",
   "metadata": {},
   "outputs": [
    {
     "name": "stdout",
     "output_type": "stream",
     "text": [
      "Using dataset: wikisection_city\n"
     ]
    }
   ],
   "source": [
    "dataset_type = \"city\"\n",
    "table = Table(dataset_type)"
   ]
  },
  {
   "cell_type": "code",
   "execution_count": null,
   "id": "2014d81a-cbb7-42e9-ad0b-ca9baa9637a2",
   "metadata": {},
   "outputs": [],
   "source": []
  },
  {
   "cell_type": "code",
   "execution_count": 45,
   "id": "0fc1681e-a20b-4eb6-a7e6-5f4a25054ee1",
   "metadata": {},
   "outputs": [],
   "source": [
    "class CoherenceNode():\n",
    "    def __init__(self, id, word, vector):\n",
    "        self.id = id\n",
    "        self.word = word\n",
    "        self.vector = vector\n",
    "        # self.level = level\n",
    "    \n",
    "    def __repr__(self):\n",
    "        return f'Node({self.id}, \\'{self.word}\\', {self.vector})'"
   ]
  },
  {
   "cell_type": "code",
   "execution_count": 78,
   "id": "e335fcaf-55ec-4d05-a0bf-70e945066728",
   "metadata": {},
   "outputs": [],
   "source": [
    "T = Tree()\n",
    "G = Tree()"
   ]
  },
  {
   "cell_type": "code",
   "execution_count": 79,
   "id": "8a0301ba-8422-4371-8992-562cfa549e2f",
   "metadata": {},
   "outputs": [],
   "source": [
    "# (id, word_text, vector_representation)\n",
    "\n",
    "segments = [\n",
    "    [(0, \"hello\", 5), (1, \"world\", 6), (2, \"earth\", 7)],\n",
    "    [(3, \"school\", 3), (4, \"work\", 5)],\n",
    "    [(5, \"assignments\", 6), (6, \"deadline\", 4), (7, \"lazy\", 2), (8, \"midterms\", 5)],\n",
    "    [(9, \"gym\", 4.5), (10, \"math\", 6), (11, \"science\", 6.5), (12, \"world\", 2)],\n",
    "]"
   ]
  },
  {
   "cell_type": "code",
   "execution_count": 80,
   "id": "fe21f20e-dc02-42e5-8ab8-ff7c2ec0a506",
   "metadata": {},
   "outputs": [
    {
     "data": {
      "text/plain": [
       "Node(tag=Mark, identifier=mark, data=None)"
      ]
     },
     "execution_count": 80,
     "metadata": {},
     "output_type": "execute_result"
    }
   ],
   "source": [
    "T.create_node(\"Harry\", \"harry\")  # root node\n",
    "T.create_node(\"Jane\", \"jane\", parent=\"harry\")\n",
    "T.create_node(\"Bill\", \"bill\", parent=\"harry\")\n",
    "G.create_node(\"Diane\", \"diane\",)\n",
    "G.create_node(\"Mary\", \"mary\", parent=\"diane\")\n",
    "G.create_node(\"Mark\", \"mark\", parent=\"diane\")"
   ]
  },
  {
   "cell_type": "code",
   "execution_count": 82,
   "id": "5baa60be-74bd-4840-a5a0-721718ad243e",
   "metadata": {},
   "outputs": [
    {
     "name": "stdout",
     "output_type": "stream",
     "text": [
      "Harry\n",
      "├── Bill\n",
      "└── Jane\n",
      "\n",
      "Diane\n",
      "├── Mark\n",
      "└── Mary\n",
      "\n"
     ]
    }
   ],
   "source": [
    "print(T.show(stdout=False))\n",
    "print(G.show(stdout=False))"
   ]
  },
  {
   "cell_type": "code",
   "execution_count": 83,
   "id": "d1052b55-2e32-4a97-8143-f88594a0605f",
   "metadata": {},
   "outputs": [],
   "source": [
    "T.paste(\"bill\", G, deep=False)"
   ]
  },
  {
   "cell_type": "code",
   "execution_count": 84,
   "id": "d4c0f72b-e270-42c0-a25a-a396adc1a9f5",
   "metadata": {},
   "outputs": [
    {
     "name": "stdout",
     "output_type": "stream",
     "text": [
      "Harry\n",
      "├── Bill\n",
      "│   └── Diane\n",
      "│       ├── Mark\n",
      "│       └── Mary\n",
      "└── Jane\n",
      "\n",
      "Diane\n",
      "├── Mark\n",
      "└── Mary\n",
      "\n"
     ]
    }
   ],
   "source": [
    "print(T.show(stdout=False))\n",
    "print(G.show(stdout=False))"
   ]
  },
  {
   "cell_type": "code",
   "execution_count": 118,
   "id": "5df07623-2b8f-468f-9a72-7929e44ebe64",
   "metadata": {},
   "outputs": [
    {
     "data": {
      "text/plain": [
       "'harry'"
      ]
     },
     "execution_count": 118,
     "metadata": {},
     "output_type": "execute_result"
    }
   ],
   "source": [
    "T.get_node(T.root).identifier"
   ]
  },
  {
   "cell_type": "code",
   "execution_count": 177,
   "id": "c6b95472-091e-492a-8e5f-53c2be309446",
   "metadata": {},
   "outputs": [
    {
     "name": "stdout",
     "output_type": "stream",
     "text": [
      "all roots []\n",
      "all roots []\n",
      "G is created\n",
      "world\n",
      "\n",
      "all roots []\n",
      "G is created\n",
      "earth\n",
      "\n",
      "all roots [(<treelib.tree.Tree object at 0x10844ddf0>, Node(tag=hello, identifier=0, data=Node(0, 'hello', 5))), (<treelib.tree.Tree object at 0x10844dfa0>, Node(tag=world, identifier=1, data=Node(1, 'world', 6))), (<treelib.tree.Tree object at 0x10844df70>, Node(tag=earth, identifier=2, data=Node(2, 'earth', 7)))]\n",
      "Node(3, 'school', 3) Node(tag=hello, identifier=0, data=Node(0, 'hello', 5))\n",
      "Node(3, 'school', 3) Node(tag=world, identifier=1, data=Node(1, 'world', 6))\n",
      "Node(3, 'school', 3) Node(tag=earth, identifier=2, data=Node(2, 'earth', 7))\n",
      "strength between school and earth\n",
      "testing: [0, 1, 2]\n",
      "current node identifier: 2\n",
      "removing ['earth']\n",
      "G is created\n",
      "school\n",
      "└── earth\n",
      "\n",
      "all roots [(<treelib.tree.Tree object at 0x10844ddf0>, Node(tag=hello, identifier=0, data=Node(0, 'hello', 5))), (<treelib.tree.Tree object at 0x10844dfa0>, Node(tag=world, identifier=1, data=Node(1, 'world', 6))), (<treelib.tree.Tree object at 0x10844df70>, Node(tag=earth, identifier=2, data=Node(2, 'earth', 7)))]\n",
      "Node(5, 'work', 5) Node(tag=hello, identifier=0, data=Node(0, 'hello', 5))\n",
      "strength between work and hello\n",
      "testing: [2, 3]\n",
      "current node identifier: 0\n",
      "removing []\n",
      "Node(5, 'work', 5) Node(tag=world, identifier=1, data=Node(1, 'world', 6))\n",
      "strength between work and world\n",
      "testing: []\n",
      "current node identifier: 1\n",
      "removing []\n",
      "Node(5, 'work', 5) Node(tag=earth, identifier=2, data=Node(2, 'earth', 7))\n",
      "strength between work and earth\n",
      "testing: []\n",
      "current node identifier: 2\n",
      "removing []\n",
      "G is created\n",
      "work\n",
      "├── earth\n",
      "├── hello\n",
      "└── world\n",
      "\n",
      "all roots [(<treelib.tree.Tree object at 0x10844df40>, Node(tag=work, identifier=5, data=Node(5, 'work', 5)))]\n",
      "Node(9, 'assignments', 6) Node(tag=work, identifier=5, data=Node(5, 'work', 5))\n",
      "strength between assignments and work\n",
      "testing: [5]\n",
      "current node identifier: 5\n",
      "removing ['work']\n",
      "G is created\n",
      "assignments\n",
      "└── work\n",
      "    ├── earth\n",
      "    ├── hello\n",
      "    └── world\n",
      "\n",
      "all roots [(<treelib.tree.Tree object at 0x10844df40>, Node(tag=work, identifier=5, data=Node(5, 'work', 5)))]\n",
      "Node(11, 'deadline', 4) Node(tag=work, identifier=5, data=Node(5, 'work', 5))\n",
      "strength between deadline and work\n",
      "testing: [5, 9]\n",
      "current node identifier: 5\n",
      "removing ['work']\n",
      "G is created\n",
      "deadline\n",
      "└── work\n",
      "    ├── earth\n",
      "    ├── hello\n",
      "    └── world\n",
      "\n",
      "all roots [(<treelib.tree.Tree object at 0x10844df40>, Node(tag=work, identifier=5, data=Node(5, 'work', 5)))]\n",
      "Node(13, 'lazy', 2) Node(tag=work, identifier=5, data=Node(5, 'work', 5))\n",
      "G is created\n",
      "lazy\n",
      "\n",
      "all roots [(<treelib.tree.Tree object at 0x10844df40>, Node(tag=work, identifier=5, data=Node(5, 'work', 5)))]\n",
      "Node(14, 'midterms', 5) Node(tag=work, identifier=5, data=Node(5, 'work', 5))\n",
      "strength between midterms and work\n",
      "testing: [5, 11, 13]\n",
      "current node identifier: 5\n",
      "removing ['work']\n",
      "G is created\n",
      "midterms\n",
      "└── work\n",
      "    ├── earth\n",
      "    ├── hello\n",
      "    └── world\n",
      "\n",
      "all roots [(<treelib.tree.Tree object at 0x10844df40>, Node(tag=work, identifier=5, data=Node(5, 'work', 5))), (<treelib.tree.Tree object at 0x10844d6a0>, Node(tag=midterms, identifier=14, data=Node(14, 'midterms', 5)))]\n",
      "Node(16, 'gym', 4.5) Node(tag=work, identifier=5, data=Node(5, 'work', 5))\n",
      "strength between gym and work\n",
      "testing: [5, 14]\n",
      "current node identifier: 5\n",
      "removing ['work']\n",
      "Node(16, 'gym', 4.5) Node(tag=midterms, identifier=14, data=Node(14, 'midterms', 5))\n",
      "strength between gym and midterms\n"
     ]
    },
    {
     "ename": "ValueError",
     "evalue": "Duplicated nodes ['0', '1', '2', '5'] exists.",
     "output_type": "error",
     "traceback": [
      "\u001b[0;31m---------------------------------------------------------------------------\u001b[0m",
      "\u001b[0;31mValueError\u001b[0m                                Traceback (most recent call last)",
      "Cell \u001b[0;32mIn[177], line 32\u001b[0m\n\u001b[1;32m     30\u001b[0m \u001b[38;5;28;01mif\u001b[39;00m new_node\u001b[38;5;241m.\u001b[39mvector \u001b[38;5;241m*\u001b[39m root\u001b[38;5;241m.\u001b[39mdata\u001b[38;5;241m.\u001b[39mvector \u001b[38;5;241m>\u001b[39m\u001b[38;5;241m=\u001b[39m \u001b[38;5;241m20\u001b[39m:\n\u001b[1;32m     31\u001b[0m     \u001b[38;5;28mprint\u001b[39m(\u001b[38;5;124mf\u001b[39m\u001b[38;5;124m\"\u001b[39m\u001b[38;5;124mstrength between \u001b[39m\u001b[38;5;132;01m{\u001b[39;00mG\u001b[38;5;241m.\u001b[39mget_node(G\u001b[38;5;241m.\u001b[39mroot)\u001b[38;5;241m.\u001b[39mtag\u001b[38;5;132;01m}\u001b[39;00m\u001b[38;5;124m and \u001b[39m\u001b[38;5;132;01m{\u001b[39;00mroot\u001b[38;5;241m.\u001b[39mtag\u001b[38;5;132;01m}\u001b[39;00m\u001b[38;5;124m\"\u001b[39m)\n\u001b[0;32m---> 32\u001b[0m     \u001b[43mG\u001b[49m\u001b[38;5;241;43m.\u001b[39;49m\u001b[43mpaste\u001b[49m\u001b[43m(\u001b[49m\u001b[43mG\u001b[49m\u001b[38;5;241;43m.\u001b[39;49m\u001b[43mget_node\u001b[49m\u001b[43m(\u001b[49m\u001b[43mG\u001b[49m\u001b[38;5;241;43m.\u001b[39;49m\u001b[43mroot\u001b[49m\u001b[43m)\u001b[49m\u001b[38;5;241;43m.\u001b[39;49m\u001b[43midentifier\u001b[49m\u001b[43m,\u001b[49m\u001b[43m \u001b[49m\u001b[43moriginal_tree\u001b[49m\u001b[43m,\u001b[49m\u001b[43m \u001b[49m\u001b[43mdeep\u001b[49m\u001b[38;5;241;43m=\u001b[39;49m\u001b[38;5;28;43;01mFalse\u001b[39;49;00m\u001b[43m)\u001b[49m\n\u001b[1;32m     33\u001b[0m     \u001b[38;5;28mprint\u001b[39m(\u001b[38;5;124mf\u001b[39m\u001b[38;5;124m\"\u001b[39m\u001b[38;5;124mtesting: \u001b[39m\u001b[38;5;132;01m{\u001b[39;00m[x\u001b[38;5;241m.\u001b[39mget_node(x\u001b[38;5;241m.\u001b[39mroot)\u001b[38;5;241m.\u001b[39midentifier\u001b[38;5;250m \u001b[39m\u001b[38;5;28;01mfor\u001b[39;00m\u001b[38;5;250m \u001b[39mx\u001b[38;5;250m \u001b[39m\u001b[38;5;129;01min\u001b[39;00m\u001b[38;5;250m \u001b[39mtrees]\u001b[38;5;132;01m}\u001b[39;00m\u001b[38;5;124m\"\u001b[39m)\n\u001b[1;32m     34\u001b[0m     \u001b[38;5;28mprint\u001b[39m(\u001b[38;5;124mf\u001b[39m\u001b[38;5;124m\"\u001b[39m\u001b[38;5;124mcurrent node identifier: \u001b[39m\u001b[38;5;132;01m{\u001b[39;00moriginal_tree\u001b[38;5;241m.\u001b[39mget_node(original_tree\u001b[38;5;241m.\u001b[39mroot)\u001b[38;5;241m.\u001b[39midentifier\u001b[38;5;132;01m}\u001b[39;00m\u001b[38;5;124m\"\u001b[39m)\n",
      "File \u001b[0;32m~/miniforge3/envs/phd/lib/python3.8/site-packages/treelib/tree.py:690\u001b[0m, in \u001b[0;36mTree.paste\u001b[0;34m(self, nid, new_tree, deep)\u001b[0m\n\u001b[1;32m    688\u001b[0m set_joint \u001b[38;5;241m=\u001b[39m \u001b[38;5;28mset\u001b[39m(new_tree\u001b[38;5;241m.\u001b[39m_nodes) \u001b[38;5;241m&\u001b[39m \u001b[38;5;28mset\u001b[39m(\u001b[38;5;28mself\u001b[39m\u001b[38;5;241m.\u001b[39m_nodes)  \u001b[38;5;66;03m# joint keys\u001b[39;00m\n\u001b[1;32m    689\u001b[0m \u001b[38;5;28;01mif\u001b[39;00m set_joint:\n\u001b[0;32m--> 690\u001b[0m     \u001b[38;5;28;01mraise\u001b[39;00m \u001b[38;5;167;01mValueError\u001b[39;00m(\u001b[38;5;124m\"\u001b[39m\u001b[38;5;124mDuplicated nodes \u001b[39m\u001b[38;5;132;01m%s\u001b[39;00m\u001b[38;5;124m exists.\u001b[39m\u001b[38;5;124m\"\u001b[39m \u001b[38;5;241m%\u001b[39m \u001b[38;5;28mlist\u001b[39m(\u001b[38;5;28mmap\u001b[39m(text, set_joint)))\n\u001b[1;32m    692\u001b[0m \u001b[38;5;28;01mfor\u001b[39;00m cid, node \u001b[38;5;129;01min\u001b[39;00m iteritems(new_tree\u001b[38;5;241m.\u001b[39mnodes):\n\u001b[1;32m    693\u001b[0m     \u001b[38;5;28;01mif\u001b[39;00m deep:\n",
      "\u001b[0;31mValueError\u001b[0m: Duplicated nodes ['0', '1', '2', '5'] exists."
     ]
    }
   ],
   "source": [
    "# simulation\n",
    "\n",
    "trees = []\n",
    "\n",
    "id = 0\n",
    "for segment in segments:\n",
    "    all_roots = []\n",
    "    for tree in trees:\n",
    "        all_roots.append((tree, tree.get_node(tree.root)))\n",
    "            \n",
    "    for word in segment:\n",
    "        print('all roots', all_roots)\n",
    "        word_text, word_vector = word[1], word[2]\n",
    "        new_node = CoherenceNode(id, word_text, word_vector)\n",
    "        if len(trees) == 0:\n",
    "            new_tree = Tree()\n",
    "            new_tree.create_node(word_text, id, data=new_node)\n",
    "            id += 1\n",
    "            trees.append(new_tree)\n",
    "            continue\n",
    "\n",
    "        placed = False\n",
    "        G = Tree()\n",
    "        G.create_node(word_text, id, data=new_node)\n",
    "        id += 1\n",
    "\n",
    "        trees_to_remove = []\n",
    "        for original_tree, root in all_roots:\n",
    "            print(new_node, root)\n",
    "            if new_node.vector * root.data.vector >= 20:\n",
    "                print(f\"strength between {G.get_node(G.root).tag} and {root.tag}\")\n",
    "                G.paste(G.get_node(G.root).identifier, original_tree, deep=False)\n",
    "                print(f\"testing: {[x.get_node(x.root).identifier for x in trees]}\")\n",
    "                print(f\"current node identifier: {original_tree.get_node(original_tree.root).identifier}\")\n",
    "                print(f\"removing {[t.get_node(t.root).tag for t in list(filter(lambda x: x.root == original_tree.get_node(original_tree.root).identifier, trees))]}\")\n",
    "                # remove the old tree from the list of trees since we create a new one\n",
    "                # with the current node as the root\n",
    "                trees = list(filter(lambda x: x.get_node(x.root).identifier == original_tree.get_node(original_tree.root).identifier, trees)) \n",
    "                id += 1\n",
    "                placed = True\n",
    "                # original_tree.create_node(word_text, id, parent=leaf, data=new_node)\n",
    "\n",
    "        if G.root is not None:\n",
    "            print(\"G is created\")\n",
    "            print(G.show(stdout=False))\n",
    "            trees.append(G)\n",
    "            placed = True\n",
    "            # id += 1\n",
    "\n",
    "        # if not placed:\n",
    "        #     print(\"not placed\")\n",
    "        #     new_tree = Tree()\n",
    "        #     new_tree.create_node(word_text, id, data=new_node)\n",
    "        #     id += 1\n",
    "        #     trees.append(new_tree)\n",
    "            \n",
    "        # node = CoherenceNode(word[0], word[1], word[2])\n",
    "        # for n in prev_graph.nodes():\n",
    "        #     if n.vector*node.vector >= 30:\n",
    "        #         temp_graph.add_edge(node, n, weight=n.vector*node.vector)"
   ]
  },
  {
   "cell_type": "code",
   "execution_count": 178,
   "id": "85c193c2-fd62-433f-8a2e-a855aa927c0d",
   "metadata": {},
   "outputs": [
    {
     "data": {
      "text/plain": [
       "Node(0, 'hello', 5)"
      ]
     },
     "execution_count": 178,
     "metadata": {},
     "output_type": "execute_result"
    }
   ],
   "source": [
    "node = trees[0].get_node(0)\n",
    "node.data"
   ]
  },
  {
   "cell_type": "code",
   "execution_count": 179,
   "id": "d50d03c9-a8e9-44a7-8b8c-b98cf285c8c4",
   "metadata": {},
   "outputs": [
    {
     "name": "stdout",
     "output_type": "stream",
     "text": [
      "Node(tag=hello, identifier=0, data=Node(0, 'hello', 5))\n",
      "Node(tag=world, identifier=1, data=Node(1, 'world', 6))\n",
      "Node(tag=earth, identifier=2, data=Node(2, 'earth', 7))\n"
     ]
    }
   ],
   "source": [
    "for leaf in trees[0].leaves():\n",
    "    print(leaf)"
   ]
  },
  {
   "cell_type": "code",
   "execution_count": 180,
   "id": "74014920-cade-4e04-a7e4-9223083cc2fd",
   "metadata": {},
   "outputs": [
    {
     "data": {
      "text/plain": [
       "[<treelib.tree.Tree at 0x10844df40>]"
      ]
     },
     "execution_count": 180,
     "metadata": {},
     "output_type": "execute_result"
    }
   ],
   "source": [
    "trees"
   ]
  },
  {
   "cell_type": "code",
   "execution_count": 181,
   "id": "91dc7316-20c1-4da9-9c37-897e7daf726a",
   "metadata": {},
   "outputs": [
    {
     "name": "stdout",
     "output_type": "stream",
     "text": [
      "work\n",
      "├── earth\n",
      "├── hello\n",
      "└── world\n",
      "\n"
     ]
    }
   ],
   "source": [
    "# for reference\n",
    "# segments = [\n",
    "#     [(0, \"hello\", 5), (1, \"world\", 6), (2, \"earth\", 7)],\n",
    "#     [(3, \"school\", 3), (4, \"work\", 5)],\n",
    "#     [(5, \"assignments\", 6), (6, \"deadline\", 4), (7, \"lazy\", 2), (8, \"midterms\", 5)],\n",
    "#     [(9, \"gym\", 4.5), (10, \"math\", 6), (11, \"science\", 6.5), (12, \"world\", 2)],\n",
    "# ]\n",
    "\n",
    "for tree in trees:\n",
    "    print(tree.show(stdout=False))"
   ]
  },
  {
   "cell_type": "code",
   "execution_count": null,
   "id": "c7462e20-7aff-4746-ad7b-964ca75ef8eb",
   "metadata": {},
   "outputs": [],
   "source": []
  }
 ],
 "metadata": {
  "kernelspec": {
   "display_name": "Python 3 (ipykernel)",
   "language": "python",
   "name": "python3"
  },
  "language_info": {
   "codemirror_mode": {
    "name": "ipython",
    "version": 3
   },
   "file_extension": ".py",
   "mimetype": "text/x-python",
   "name": "python",
   "nbconvert_exporter": "python",
   "pygments_lexer": "ipython3",
   "version": "3.8.18"
  }
 },
 "nbformat": 4,
 "nbformat_minor": 5
}
