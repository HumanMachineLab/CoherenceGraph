{
 "cells": [
  {
   "cell_type": "code",
   "execution_count": 2,
   "id": "61e86222",
   "metadata": {},
   "outputs": [
    {
     "name": "stdout",
     "output_type": "stream",
     "text": [
      "The autoreload extension is already loaded. To reload it, use:\n",
      "  %reload_ext autoreload\n"
     ]
    }
   ],
   "source": [
    "# Run if working locally\n",
    "%load_ext autoreload\n",
    "%autoreload 2"
   ]
  },
  {
   "cell_type": "code",
   "execution_count": 3,
   "id": "bc3f9c83",
   "metadata": {},
   "outputs": [
    {
     "name": "stderr",
     "output_type": "stream",
     "text": [
      "/Users/mac/miniforge3/envs/phd/lib/python3.8/site-packages/transformers/utils/generic.py:441: UserWarning: torch.utils._pytree._register_pytree_node is deprecated. Please use torch.utils._pytree.register_pytree_node instead.\n",
      "  _torch_pytree._register_pytree_node(\n",
      "/Users/mac/miniforge3/envs/phd/lib/python3.8/site-packages/transformers/utils/generic.py:309: UserWarning: torch.utils._pytree._register_pytree_node is deprecated. Please use torch.utils._pytree.register_pytree_node instead.\n",
      "  _torch_pytree._register_pytree_node(\n"
     ]
    }
   ],
   "source": [
    "import sqlite3\n",
    "from sqlite3 import Error\n",
    "import pickle\n",
    "import os, sys\n",
    "import config\n",
    "\n",
    "config.root_path = os.path.abspath(os.path.join(os.getcwd(), \"..\"))\n",
    "sys.path.insert(0, config.root_path)\n",
    "\n",
    "from src.dataset.dataset import RawData\n",
    "from src.dataset.wikisection_preprocessing import (\n",
    "    tokenize,\n",
    "    clean_sentence,\n",
    "    preprocess_text_segmentation,\n",
    "    format_data_for_db_insertion,\n",
    ")\n",
    "from src.dataset.utils import truncate_by_token\n",
    "from db.dbv2 import Table, AugmentedTable, TrainTestTable\n",
    "import pprint\n",
    "\n",
    "from utils.metrics import windowdiff, pk\n",
    "\n",
    "from src.bertkeywords.src.similarities import Embedding, Similarities\n",
    "from src.bertkeywords.src.keywords import Keywords\n",
    "from src.encoders.coherence_v3 import Coherence\n",
    "from src.dataset.utils import flatten, dedupe_list, truncate_string\n",
    "from src.experimentation.coherence_v3 import PredictByChainCountExperiment, CoherenceExperiment"
   ]
  },
  {
   "cell_type": "code",
   "execution_count": 81,
   "id": "8ead0863",
   "metadata": {},
   "outputs": [],
   "source": [
    "experimentation = PredictByChainCountExperiment()\n",
    "\n",
    "experimentation.queue_experiment(\n",
    "    CoherenceExperiment(\n",
    "        dataset_type=\"city\",\n",
    "        model_string=\"sentence-transformers/LaBSE\",\n",
    "        max_words_per_step=4,\n",
    "        diverse_keywords=False,\n",
    "        keyword_diversity=0.0,\n",
    "        max_graph_depth=7,\n",
    "        start=10000,\n",
    "        num_samples=100,\n",
    "        batch_size=5,\n",
    "        coherence_threshold=0.7\n",
    "    )\n",
    ")"
   ]
  },
  {
   "cell_type": "code",
   "execution_count": 82,
   "id": "4380d14a",
   "metadata": {},
   "outputs": [
    {
     "name": "stdout",
     "output_type": "stream",
     "text": [
      "Running experiment set: Y5ywx\n",
      "Running experiment: CoherenceExperiment(num_samples=100, start=10000, dataset_type='city', model_string='sentence-transformers/LaBSE', max_words_per_step=4, coherence_threshold=0.7, experiment_hash='FV0o3', batch_size=5, max_graph_depth=7, keyword_diversity=0.0, diverse_keywords=False, similar_keywords=True, ablation=False, print_metrics_summary=(False,), print_predictions_summary=(False,), show_graphs=True)\n",
      "Using dataset: wikisection_city\n"
     ]
    },
    {
     "name": "stderr",
     "output_type": "stream",
     "text": [
      "No sentence-transformers model found with name /Users/mac/.cache/torch/sentence_transformers/bert-base-uncased. Creating a new one with MEAN pooling.\n"
     ]
    },
    {
     "name": "stdout",
     "output_type": "stream",
     "text": [
      "TOTAL BATCHES: 20\n",
      "\n",
      "..... 1 ..... 2 ..... 3 ..... 4 ..... 5 ..... 6 ..... 7 ..... 8 ..... 9 ..... 10 ..... 11 ..... 12 ..... 13 ..... 14 ..... 15 ..... 16 ..... 17 ..... 18 ..... 19 ..... 20 \n",
      "============= Metrics Summary =============\n",
      "1000000000000000001000000100000000100000000010010001000001000000000000000100000100000000010000010000\n",
      "1000000100000010000100000000000001100000000000000000000110000010000000100000100000100010010000000000\n",
      "100 100\n",
      "pk score: 0.4842105263157895\n",
      "wd score: 0.631578947368421\n",
      "proximity: 0.13905423280423282\n",
      "confusion: f1 [0.8000000000000002], tp [3], fp [9], tn [77], fn [11]\n",
      "==========================\n",
      "============= Predictions Summary =============\n",
      "best pk: 0.4842105263157895, best prediction threshold: 1, proximity: 0.13905423280423282\n",
      "P:[1, 0, 0, 0, 0, 0, 0, 0, 0, 0, 0, 0, 0, 0, 0, 0, 0, 0, 1, 0, 0, 0, 0, 0, 0, 1, 0, 0, 0, 0, 0, 0, 0, 0, 1, 0, 0, 0, 0, 0, 0, 0, 0, 0, 1, 0, 0, 1, 0, 0, 0, 1, 0, 0, 0, 0, 0, 1, 0, 0, 0, 0, 0, 0, 0, 0, 0, 0, 0, 0, 0, 0, 0, 1, 0, 0, 0, 0, 0, 1, 0, 0, 0, 0, 0, 0, 0, 0, 0, 1, 0, 0, 0, 0, 0, 1, 0, 0, 0, 0]\n",
      "R:[1, 0, 0, 0, 0, 0, 0, 1, 0, 0, 0, 0, 0, 0, 1, 0, 0, 0, 0, 1, 0, 0, 0, 0, 0, 0, 0, 0, 0, 0, 0, 0, 0, 1, 1, 0, 0, 0, 0, 0, 0, 0, 0, 0, 0, 0, 0, 0, 0, 0, 0, 0, 0, 0, 0, 1, 1, 0, 0, 0, 0, 0, 1, 0, 0, 0, 0, 0, 0, 0, 1, 0, 0, 0, 0, 0, 1, 0, 0, 0, 0, 0, 1, 0, 0, 0, 1, 0, 0, 1, 0, 0, 0, 0, 0, 0, 0, 0, 0, 0]\n",
      "\n",
      "Experiment 1 - FV0o3 complete.\n",
      "==============================================\n",
      "\n"
     ]
    }
   ],
   "source": [
    "experimentation.run()"
   ]
  },
  {
   "cell_type": "code",
   "execution_count": null,
   "id": "e0258993",
   "metadata": {},
   "outputs": [],
   "source": []
  }
 ],
 "metadata": {
  "kernelspec": {
   "display_name": "Python 3 (ipykernel)",
   "language": "python",
   "name": "python3"
  },
  "language_info": {
   "codemirror_mode": {
    "name": "ipython",
    "version": 3
   },
   "file_extension": ".py",
   "mimetype": "text/x-python",
   "name": "python",
   "nbconvert_exporter": "python",
   "pygments_lexer": "ipython3",
   "version": "3.8.18"
  }
 },
 "nbformat": 4,
 "nbformat_minor": 5
}
